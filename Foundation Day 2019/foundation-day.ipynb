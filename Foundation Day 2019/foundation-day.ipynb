{
 "cells": [
  {
   "cell_type": "code",
   "execution_count": 1,
   "metadata": {
    "ExecuteTime": {
     "end_time": "2019-09-27T09:23:07.112000+05:30",
     "start_time": "2019-09-27T03:52:44.599Z"
    },
    "slideshow": {
     "slide_type": "slide"
    }
   },
   "outputs": [
    {
     "name": "stderr",
     "output_type": "stream",
     "text": [
      "┌ Info: Recompiling stale cache file C:\\Users\\dhruv\\.julia\\compiled\\v1.2\\Suppressor\\1JN4R.ji for Suppressor [fd094767-a336-5f1f-9728-57cf17d0bbfb]\n",
      "└ @ Base loading.jl:1240\n"
     ]
    },
    {
     "data": {
      "text/html": [
       "<script>\n",
       "// Immediately-invoked-function-expression to avoid global variables.\n",
       "(function() {\n",
       "    var warning_div = document.getElementById(\"webio-warning-1666512075622925252\");\n",
       "    var hide = function () {\n",
       "        var script = document.getElementById(\"webio-setup-2096515481716565862\");\n",
       "        var parent = script && script.parentElement;\n",
       "        var grandparent = parent && parent.parentElement;\n",
       "        if (grandparent) {\n",
       "            grandparent.style.display = \"none\";\n",
       "        }\n",
       "        warning_div.style.display = \"none\";\n",
       "    };\n",
       "    if (typeof Jupyter !== \"undefined\") {\n",
       "        console.log(\"WebIO detected Jupyter notebook environment.\");\n",
       "        // Jupyter notebook.\n",
       "        var extensions = (\n",
       "            Jupyter\n",
       "            && Jupyter.notebook.config.data\n",
       "            && Jupyter.notebook.config.data.load_extensions\n",
       "        );\n",
       "        if (extensions && extensions[\"webio-jupyter-notebook\"]) {\n",
       "            // Extension already loaded.\n",
       "            console.log(\"Jupyter WebIO nbextension detected; not loading ad-hoc.\");\n",
       "            hide();\n",
       "            return;\n",
       "        }\n",
       "    } else if (window.location.pathname.includes(\"/lab\")) {\n",
       "        // Guessing JupyterLa\n",
       "        console.log(\"Jupyter Lab detected; make sure the @webio/jupyter-lab-provider labextension is installed.\");\n",
       "        hide();\n",
       "        return;\n",
       "    }\n",
       "})();\n",
       "\n",
       "</script>\n",
       "<p\n",
       "    id=\"webio-warning-1666512075622925252\"\n",
       "    class=\"output_text output_stderr\"\n",
       "    style=\"padding: 1em; font-weight: bold;\"\n",
       ">\n",
       "    Unable to load WebIO. Please make sure WebIO works for your Jupyter client.\n",
       "    For troubleshooting, please see <a href=\"https://juliagizmos.github.io/WebIO.jl/latest/providers/ijulia/\">\n",
       "    the WebIO/IJulia documentation</a>.\n",
       "    <!-- TODO: link to installation docs. -->\n",
       "</p>\n"
      ],
      "text/plain": [
       "HTML{String}(\"<script>\\n// Immediately-invoked-function-expression to avoid global variables.\\n(function() {\\n    var warning_div = document.getElementById(\\\"webio-warning-1666512075622925252\\\");\\n    var hide = function () {\\n        var script = document.getElementById(\\\"webio-setup-2096515481716565862\\\");\\n        var parent = script && script.parentElement;\\n        var grandparent = parent && parent.parentElement;\\n        if (grandparent) {\\n            grandparent.style.display = \\\"none\\\";\\n        }\\n        warning_div.style.display = \\\"none\\\";\\n    };\\n    if (typeof Jupyter !== \\\"undefined\\\") {\\n        console.log(\\\"WebIO detected Jupyter notebook environment.\\\");\\n        // Jupyter notebook.\\n        var extensions = (\\n            Jupyter\\n            && Jupyter.notebook.config.data\\n            && Jupyter.notebook.config.data.load_extensions\\n        );\\n        if (extensions && extensions[\\\"webio-jupyter-notebook\\\"]) {\\n            // Extension already loaded.\\n            console.log(\\\"Jupyter WebIO nbextension detected; not loading ad-hoc.\\\");\\n            hide();\\n            return;\\n        }\\n    } else if (window.location.pathname.includes(\\\"/lab\\\")) {\\n        // Guessing JupyterLa\\n        console.log(\\\"Jupyter Lab detected; make sure the @webio/jupyter-lab-provider labextension is installed.\\\");\\n        hide();\\n        return;\\n    }\\n})();\\n\\n</script>\\n<p\\n    id=\\\"webio-warning-1666512075622925252\\\"\\n    class=\\\"output_text output_stderr\\\"\\n    style=\\\"padding: 1em; font-weight: bold;\\\"\\n>\\n    Unable to load WebIO. Please make sure WebIO works for your Jupyter client.\\n    For troubleshooting, please see <a href=\\\"https://juliagizmos.github.io/WebIO.jl/latest/providers/ijulia/\\\">\\n    the WebIO/IJulia documentation</a>.\\n    <!-- TODO: link to installation docs. -->\\n</p>\\n\")"
      ]
     },
     "metadata": {},
     "output_type": "display_data"
    }
   ],
   "source": [
    "using Plots\n",
    "using Suppressor\n",
    "using WebIO\n",
    "using Printf"
   ]
  },
  {
   "cell_type": "markdown",
   "metadata": {
    "heading_collapsed": true,
    "slideshow": {
     "slide_type": "slide"
    }
   },
   "source": [
    "# Collatz Conjecture"
   ]
  },
  {
   "cell_type": "code",
   "execution_count": null,
   "metadata": {
    "ExecuteTime": {
     "end_time": "2019-09-10T16:03:33.534000+05:30",
     "start_time": "2019-09-10T10:33:33.487Z"
    },
    "code_folding": [],
    "hidden": true
   },
   "outputs": [],
   "source": [
    "# Define the Collatz Series Function\n",
    "function collatz_series(n::Int) :: Array\n",
    "    l = [n] # make a list to return\n",
    "    while n!=1\n",
    "        if n%2 == 0\n",
    "            #if n is even, n -> n/2\n",
    "            n = n / 2\n",
    "        else\n",
    "            # else n -> 3n+1\n",
    "            n = 3*n + 1\n",
    "        end\n",
    "        # Add to list\n",
    "        push!(l,n)\n",
    "    end\n",
    "    return l\n",
    "end"
   ]
  },
  {
   "cell_type": "code",
   "execution_count": null,
   "metadata": {
    "ExecuteTime": {
     "end_time": "2019-09-10T16:03:34.460000+05:30",
     "start_time": "2019-09-10T10:33:34.450Z"
    },
    "hidden": true
   },
   "outputs": [],
   "source": [
    "run_num = 0;"
   ]
  },
  {
   "cell_type": "code",
   "execution_count": null,
   "metadata": {
    "ExecuteTime": {
     "end_time": "2019-09-10T16:14:45.069000+05:30",
     "start_time": "2019-09-10T10:44:36.716Z"
    },
    "code_folding": [],
    "hidden": true
   },
   "outputs": [],
   "source": [
    "# collatz\n",
    "anim = Animation()\n",
    "p = plot()\n",
    "my_xlims = [0,0]\n",
    "my_ylims = [0,0]\n",
    "# Change the numbers here, put similar numbers\n",
    "x_s = rand(20:100, 5)\n",
    "\n",
    "run_num += 1\n",
    "println(\"Run Number: \", run_num)\n",
    "for (i, x) in enumerate(x_s)\n",
    "    # Find the Collatz Series for x\n",
    "    list = collatz_series(x)\n",
    "    println(x, \"=>\",list)\n",
    "    \n",
    "    # Make the plot look good\n",
    "    # Set lims\n",
    "    my_xlims[2] = maximum([my_xlims[2], length(list)])\n",
    "    my_ylims[2] = maximum([my_ylims[2], maximum(list)])\n",
    "    \n",
    "    # Initialise the new series\n",
    "    plot!(p, [0],[x],xlims = my_xlims, ylims = my_ylims, label = x)\n",
    "    \n",
    "    for j in  2:length(list)\n",
    "        # Add the jth data point to the ith graph\n",
    "        push!(p, i, j-1, list[j])\n",
    "        # Take a snapshot for the gif\n",
    "        frame(anim)\n",
    "    end\n",
    "    # Pretty Print\n",
    "    @suppress_err begin\n",
    "        # Save the gif as run[run_num].gif with fps frames per second\n",
    "        gif(anim, \"run$(run_num).gif\", fps = 5);\n",
    "    end\n",
    "end\n",
    "# Display the run_num th gif \n",
    "Node(:img, src = \"run$(run_num).gif\")"
   ]
  },
  {
   "cell_type": "markdown",
   "metadata": {},
   "source": [
    "# Probability - π"
   ]
  },
  {
   "cell_type": "code",
   "execution_count": 6,
   "metadata": {
    "ExecuteTime": {
     "end_time": "2019-09-27T09:26:05.664000+05:30",
     "start_time": "2019-09-27T03:56:05.661Z"
    }
   },
   "outputs": [],
   "source": [
    "sample_size = 5000;"
   ]
  },
  {
   "cell_type": "code",
   "execution_count": 10,
   "metadata": {
    "ExecuteTime": {
     "end_time": "2019-09-27T10:26:52.543000+05:30",
     "start_time": "2019-09-27T04:55:36.378Z"
    },
    "code_folding": []
   },
   "outputs": [
    {
     "data": {
      "application/vnd.webio.node+json": {
       "children": [],
       "instanceArgs": {
        "namespace": "html",
        "tag": "img"
       },
       "nodeType": "DOM",
       "props": {
        "src": "run.gif?modified=0.5899051561983735"
       },
       "type": "node"
      },
      "text/html": [
       "<div\n",
       "    class=\"webio-mountpoint\"\n",
       "    data-webio-mountpoint=\"794584552847172903\"\n",
       ">\n",
       "    <script>\n",
       "    if (window.require && require.defined && require.defined(\"nbextensions/webio-jupyter-notebook\")) {\n",
       "        console.log(\"Jupyter WebIO extension detected, not mounting.\");\n",
       "    } else if (window.WebIO) {\n",
       "        WebIO.mount(\n",
       "            document.querySelector('[data-webio-mountpoint=\"794584552847172903\"]'),\n",
       "            {\"props\":{\"src\":\"run.gif?modified=0.5899051561983735\"},\"nodeType\":\"DOM\",\"type\":\"node\",\"instanceArgs\":{\"namespace\":\"html\",\"tag\":\"img\"},\"children\":[]},\n",
       "            window,\n",
       "        );\n",
       "    } else {\n",
       "        document\n",
       "            .querySelector('[data-webio-mountpoint=\"794584552847172903\"]')\n",
       "            .innerHTML = (\n",
       "                '<strong>WebIO not detected. Please read ' +\n",
       "                '<a href=\"https://juliagizmos.github.io/WebIO.jl/latest/troubleshooting/not-detected/\">the troubleshooting guide</a> ' +\n",
       "                'for more information on how to resolve this issue.' +\n",
       "                '</strong>'\n",
       "            );\n",
       "    }\n",
       "    </script>\n",
       "</div>\n"
      ],
      "text/plain": [
       "(img { src=\"run.gif?modified=0.5899051561983735\" })"
      ]
     },
     "metadata": {
      "application/vnd.webio.node+json": {
       "kernelId": "277c9504-7062-4e6a-89a6-828cf411ae3b"
      }
     },
     "output_type": "display_data"
    }
   ],
   "source": [
    "#take SampleSize xs and ys\n",
    "x = rand(Float64, sample_size);\n",
    "y = rand(Float64, sample_size);\n",
    "\n",
    "#init counter to 0\n",
    "counter = 0\n",
    "\n",
    "ppi_anim = Animation()\n",
    "\n",
    "# ploting circle\n",
    "p = plot(cos, x->sin(x), 0, π/2, line=4, color=:orange, leg = false, title=\"Plot of random points\")\n",
    "#plot square\n",
    "plot!(p,[0,0,1,1,0],[0,1,1,0,0], color=:black, line = 1)\n",
    "\n",
    "# right graph\n",
    "q = plot([0,sample_size],[π,π], color = :orange, label=\"pi actual\", yaxis = [π-0.5, π+0.5], title=\"Probability*4\", line=2)\n",
    "plot!(q,[0],[0], label = \"pi calculated\", color = :green)\n",
    "\n",
    "#loop over\n",
    "for i in 1:sample_size\n",
    "    if x[i]^2 + y[i]^2 < 1\n",
    "        # inside the quad\n",
    "        counter+=1\n",
    "        plot!([x[i]],[y[i]], st = :scatter, color = :green, markersize=1, label=\"\")\n",
    "    else\n",
    "        #outside the quad\n",
    "        plot!([x[i]],[y[i]], st = :scatter, color = :red, markersize=1,  label=\"\")\n",
    "    end\n",
    "    \n",
    "    #update right plot\n",
    "    push!(q, 2, i, counter*4/i)\n",
    "    \n",
    "    #making a movie\n",
    "    if i%(sample_size//200) == 0\n",
    "        final = plot(p,q,layout=(1,2), size = (800,400))\n",
    "        frame(ppi_anim, final)\n",
    "    end\n",
    "end\n",
    "@suppress_err begin\n",
    "    # Save the gif as run.gif with fps frames per second\n",
    "    gif(ppi_anim, \"run.gif\", fps = 10);\n",
    "end\n",
    "display(Node(:img, src=\"run.gif?modified=$(rand(Float64))\"))"
   ]
  },
  {
   "cell_type": "code",
   "execution_count": 12,
   "metadata": {
    "ExecuteTime": {
     "end_time": "2019-09-27T12:17:02.444000+05:30",
     "start_time": "2019-09-27T06:47:02.351Z"
    }
   },
   "outputs": [
    {
     "name": "stdout",
     "output_type": "stream",
     "text": [
      "π = 3.1752\n",
      "error = 1.070 %"
     ]
    }
   ],
   "source": [
    "println(\"π = \", counter*4/sample_size)\n",
    "@printf \"error = %.3f %s\" abs(π - counter*4/sample_size)*100/π \"%\""
   ]
  },
  {
   "cell_type": "code",
   "execution_count": 13,
   "metadata": {
    "ExecuteTime": {
     "end_time": "2019-09-27T12:51:12.144000+05:30",
     "start_time": "2019-09-27T07:21:11.647Z"
    }
   },
   "outputs": [
    {
     "data": {
      "text/plain": [
       "flip (generic function with 1 method)"
      ]
     },
     "execution_count": 13,
     "metadata": {},
     "output_type": "execute_result"
    }
   ],
   "source": [
    "function flip()\n",
    "    return rand(Float64)<0.5\n",
    "end"
   ]
  },
  {
   "cell_type": "code",
   "execution_count": 25,
   "metadata": {
    "ExecuteTime": {
     "end_time": "2019-09-27T12:57:14.024000+05:30",
     "start_time": "2019-09-27T07:27:13.830Z"
    }
   },
   "outputs": [
    {
     "data": {
      "application/vnd.webio.node+json": {
       "children": [],
       "instanceArgs": {
        "namespace": "html",
        "tag": "img"
       },
       "nodeType": "DOM",
       "props": {
        "src": "run2.gif?modified=0.011223177964649889"
       },
       "type": "node"
      },
      "text/html": [
       "<div\n",
       "    class=\"webio-mountpoint\"\n",
       "    data-webio-mountpoint=\"510108696398138028\"\n",
       ">\n",
       "    <script>\n",
       "    if (window.require && require.defined && require.defined(\"nbextensions/webio-jupyter-notebook\")) {\n",
       "        console.log(\"Jupyter WebIO extension detected, not mounting.\");\n",
       "    } else if (window.WebIO) {\n",
       "        WebIO.mount(\n",
       "            document.querySelector('[data-webio-mountpoint=\"510108696398138028\"]'),\n",
       "            {\"props\":{\"src\":\"run2.gif?modified=0.011223177964649889\"},\"nodeType\":\"DOM\",\"type\":\"node\",\"instanceArgs\":{\"namespace\":\"html\",\"tag\":\"img\"},\"children\":[]},\n",
       "            window,\n",
       "        );\n",
       "    } else {\n",
       "        document\n",
       "            .querySelector('[data-webio-mountpoint=\"510108696398138028\"]')\n",
       "            .innerHTML = (\n",
       "                '<strong>WebIO not detected. Please read ' +\n",
       "                '<a href=\"https://juliagizmos.github.io/WebIO.jl/latest/troubleshooting/not-detected/\">the troubleshooting guide</a> ' +\n",
       "                'for more information on how to resolve this issue.' +\n",
       "                '</strong>'\n",
       "            );\n",
       "    }\n",
       "    </script>\n",
       "</div>\n"
      ],
      "text/plain": [
       "(img { src=\"run2.gif?modified=0.011223177964649889\" })"
      ]
     },
     "metadata": {
      "application/vnd.webio.node+json": {
       "kernelId": "277c9504-7062-4e6a-89a6-828cf411ae3b"
      }
     },
     "output_type": "display_data"
    }
   ],
   "source": [
    "ppi_anim = Animation()\n",
    "\n",
    "q = plot([0,sample_size],[0.5,0.5], color = :orange, label=\"0.5\", yaxis = [0.5-0.5, 0.5+0.5], title=\"Probability\", line=2)\n",
    "plot!(q,[0],[0], label = \"exp\", color = :green)\n",
    "counter= 0\n",
    "for i in sample_size\n",
    "    if flip()\n",
    "        counter+=1\n",
    "    end\n",
    "    push!(q, 2, i, counter/i)\n",
    "    if i%(sample_size//200) == 0\n",
    "        final = plot(q,layout=(1,1), size = (400,400))\n",
    "        frame(ppi_anim, final)\n",
    "    end\n",
    "end\n",
    "@suppress_err begin\n",
    "    # Save the gif as run.gif with fps frames per second\n",
    "    gif(ppi_anim, \"run2.gif\", fps = 10);\n",
    "end\n",
    "display(Node(:img, src=\"run2.gif?modified=$(rand(Float64))\"))"
   ]
  },
  {
   "cell_type": "code",
   "execution_count": 23,
   "metadata": {
    "ExecuteTime": {
     "end_time": "2019-09-27T12:56:51.066000+05:30",
     "start_time": "2019-09-27T07:26:51.064Z"
    }
   },
   "outputs": [
    {
     "data": {
      "text/plain": [
       "false"
      ]
     },
     "execution_count": 23,
     "metadata": {},
     "output_type": "execute_result"
    }
   ],
   "source": [
    "flip()"
   ]
  },
  {
   "cell_type": "code",
   "execution_count": null,
   "metadata": {},
   "outputs": [],
   "source": []
  }
 ],
 "metadata": {
  "@webio": {
   "lastCommId": "bee062788cee4a6f961e836fe7827a05",
   "lastKernelId": "277c9504-7062-4e6a-89a6-828cf411ae3b"
  },
  "kernelspec": {
   "display_name": "Julia 1.4.0",
   "language": "julia",
   "name": "julia-1.4"
  },
  "language_info": {
   "file_extension": ".jl",
   "mimetype": "application/julia",
   "name": "julia",
   "version": "1.4.0"
  },
  "latex_envs": {
   "LaTeX_envs_menu_present": true,
   "autoclose": false,
   "autocomplete": true,
   "bibliofile": "biblio.bib",
   "cite_by": "apalike",
   "current_citInitial": 1,
   "eqLabelWithNumbers": true,
   "eqNumInitial": 1,
   "hotkeys": {
    "equation": "Ctrl-E",
    "itemize": "Ctrl-I"
   },
   "labels_anchors": false,
   "latex_user_defs": false,
   "report_style_numbering": false,
   "user_envs_cfg": false
  },
  "notify_time": "30",
  "toc": {
   "base_numbering": 1,
   "nav_menu": {},
   "number_sections": true,
   "sideBar": true,
   "skip_h1_title": false,
   "title_cell": "Table of Contents",
   "title_sidebar": "Table of Contents",
   "toc_cell": false,
   "toc_position": {
    "height": "436px",
    "left": "141px",
    "top": "234.667px",
    "width": "256px"
   },
   "toc_section_display": true,
   "toc_window_display": false
  },
  "varInspector": {
   "cols": {
    "lenName": 16,
    "lenType": 16,
    "lenVar": 40
   },
   "kernels_config": {
    "python": {
     "delete_cmd_postfix": "",
     "delete_cmd_prefix": "del ",
     "library": "var_list.py",
     "varRefreshCmd": "print(var_dic_list())"
    },
    "r": {
     "delete_cmd_postfix": ") ",
     "delete_cmd_prefix": "rm(",
     "library": "var_list.r",
     "varRefreshCmd": "cat(var_dic_list()) "
    }
   },
   "types_to_exclude": [
    "module",
    "function",
    "builtin_function_or_method",
    "instance",
    "_Feature"
   ],
   "window_display": false
  }
 },
 "nbformat": 4,
 "nbformat_minor": 2
}
